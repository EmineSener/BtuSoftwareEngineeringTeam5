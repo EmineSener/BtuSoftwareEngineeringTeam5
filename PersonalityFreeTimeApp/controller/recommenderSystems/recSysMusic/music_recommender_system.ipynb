{
 "cells": [
  {
   "cell_type": "markdown",
   "id": "f1eef71e",
   "metadata": {},
   "source": [
    "# Müzik Öneri Sistemi\n",
    "Müzik öneri sisteminde `Content Based` İçerik Tabanlı öneriler yapılacak.\n",
    "\n",
    "İçerik tabanlı öneri sisteminde müziklerin sözlerine odaklanılır."
   ]
  },
  {
   "cell_type": "code",
   "execution_count": 1,
   "id": "58e140ba",
   "metadata": {},
   "outputs": [],
   "source": [
    "import pandas as pd\n",
    "import numpy as np"
   ]
  },
  {
   "cell_type": "code",
   "execution_count": 2,
   "id": "48be665b",
   "metadata": {},
   "outputs": [
    {
     "data": {
      "text/html": [
       "<div>\n",
       "<style scoped>\n",
       "    .dataframe tbody tr th:only-of-type {\n",
       "        vertical-align: middle;\n",
       "    }\n",
       "\n",
       "    .dataframe tbody tr th {\n",
       "        vertical-align: top;\n",
       "    }\n",
       "\n",
       "    .dataframe thead th {\n",
       "        text-align: right;\n",
       "    }\n",
       "</style>\n",
       "<table border=\"1\" class=\"dataframe\">\n",
       "  <thead>\n",
       "    <tr style=\"text-align: right;\">\n",
       "      <th></th>\n",
       "      <th>artist</th>\n",
       "      <th>song</th>\n",
       "      <th>link</th>\n",
       "      <th>text</th>\n",
       "    </tr>\n",
       "  </thead>\n",
       "  <tbody>\n",
       "    <tr>\n",
       "      <th>0</th>\n",
       "      <td>ABBA</td>\n",
       "      <td>Ahe's My Kind Of Girl</td>\n",
       "      <td>/a/abba/ahes+my+kind+of+girl_20598417.html</td>\n",
       "      <td>Look at her face, it's a wonderful face  \\r\\nA...</td>\n",
       "    </tr>\n",
       "    <tr>\n",
       "      <th>1</th>\n",
       "      <td>ABBA</td>\n",
       "      <td>Andante, Andante</td>\n",
       "      <td>/a/abba/andante+andante_20002708.html</td>\n",
       "      <td>Take it easy with me, please  \\r\\nTouch me gen...</td>\n",
       "    </tr>\n",
       "    <tr>\n",
       "      <th>2</th>\n",
       "      <td>ABBA</td>\n",
       "      <td>As Good As New</td>\n",
       "      <td>/a/abba/as+good+as+new_20003033.html</td>\n",
       "      <td>I'll never know why I had to go  \\r\\nWhy I had...</td>\n",
       "    </tr>\n",
       "    <tr>\n",
       "      <th>3</th>\n",
       "      <td>ABBA</td>\n",
       "      <td>Bang</td>\n",
       "      <td>/a/abba/bang_20598415.html</td>\n",
       "      <td>Making somebody happy is a question of give an...</td>\n",
       "    </tr>\n",
       "    <tr>\n",
       "      <th>4</th>\n",
       "      <td>ABBA</td>\n",
       "      <td>Bang-A-Boomerang</td>\n",
       "      <td>/a/abba/bang+a+boomerang_20002668.html</td>\n",
       "      <td>Making somebody happy is a question of give an...</td>\n",
       "    </tr>\n",
       "  </tbody>\n",
       "</table>\n",
       "</div>"
      ],
      "text/plain": [
       "  artist                   song                                        link  \\\n",
       "0   ABBA  Ahe's My Kind Of Girl  /a/abba/ahes+my+kind+of+girl_20598417.html   \n",
       "1   ABBA       Andante, Andante       /a/abba/andante+andante_20002708.html   \n",
       "2   ABBA         As Good As New        /a/abba/as+good+as+new_20003033.html   \n",
       "3   ABBA                   Bang                  /a/abba/bang_20598415.html   \n",
       "4   ABBA       Bang-A-Boomerang      /a/abba/bang+a+boomerang_20002668.html   \n",
       "\n",
       "                                                text  \n",
       "0  Look at her face, it's a wonderful face  \\r\\nA...  \n",
       "1  Take it easy with me, please  \\r\\nTouch me gen...  \n",
       "2  I'll never know why I had to go  \\r\\nWhy I had...  \n",
       "3  Making somebody happy is a question of give an...  \n",
       "4  Making somebody happy is a question of give an...  "
      ]
     },
     "execution_count": 2,
     "metadata": {},
     "output_type": "execute_result"
    }
   ],
   "source": [
    "musics = pd.read_csv('spotify_millsongdata.csv')\n",
    "musics.head()"
   ]
  },
  {
   "cell_type": "code",
   "execution_count": 3,
   "id": "f3c6b918",
   "metadata": {},
   "outputs": [
    {
     "data": {
      "text/plain": [
       "(57650, 4)"
      ]
     },
     "execution_count": 3,
     "metadata": {},
     "output_type": "execute_result"
    }
   ],
   "source": [
    "musics.shape"
   ]
  },
  {
   "cell_type": "markdown",
   "id": "259aea33",
   "metadata": {},
   "source": [
    "Null değerler kontrol edilir."
   ]
  },
  {
   "cell_type": "code",
   "execution_count": 4,
   "id": "de134a74",
   "metadata": {},
   "outputs": [
    {
     "data": {
      "text/plain": [
       "artist    0\n",
       "song      0\n",
       "link      0\n",
       "text      0\n",
       "dtype: int64"
      ]
     },
     "execution_count": 4,
     "metadata": {},
     "output_type": "execute_result"
    }
   ],
   "source": [
    "musics.isnull().sum()"
   ]
  },
  {
   "cell_type": "markdown",
   "id": "d2055c6c",
   "metadata": {},
   "source": [
    "Öneri sisteminde kullanılmayacak olan alanlar datasetten çıkartılır."
   ]
  },
  {
   "cell_type": "markdown",
   "id": "b6e25ebe",
   "metadata": {},
   "source": [
    "Uygulamamızda içeriklerin doğru olması kadar hızlı bir şekilde gösterilmesi de önemlidir. Bunun için database 5000 örnek olarak küçültülür."
   ]
  },
  {
   "cell_type": "code",
   "execution_count": 5,
   "id": "2600227d",
   "metadata": {},
   "outputs": [
    {
     "data": {
      "text/html": [
       "<div>\n",
       "<style scoped>\n",
       "    .dataframe tbody tr th:only-of-type {\n",
       "        vertical-align: middle;\n",
       "    }\n",
       "\n",
       "    .dataframe tbody tr th {\n",
       "        vertical-align: top;\n",
       "    }\n",
       "\n",
       "    .dataframe thead th {\n",
       "        text-align: right;\n",
       "    }\n",
       "</style>\n",
       "<table border=\"1\" class=\"dataframe\">\n",
       "  <thead>\n",
       "    <tr style=\"text-align: right;\">\n",
       "      <th></th>\n",
       "      <th>artist</th>\n",
       "      <th>song</th>\n",
       "      <th>text</th>\n",
       "    </tr>\n",
       "  </thead>\n",
       "  <tbody>\n",
       "    <tr>\n",
       "      <th>0</th>\n",
       "      <td>Kenny Chesney</td>\n",
       "      <td>She Don't Know She's Beautiful</td>\n",
       "      <td>We go out to a party somewhere  \\r\\nThe moment...</td>\n",
       "    </tr>\n",
       "    <tr>\n",
       "      <th>1</th>\n",
       "      <td>Leo Sayer</td>\n",
       "      <td>You Make Me Feel Like Dancing</td>\n",
       "      <td>You've got a cute way of talking  \\r\\nYou got ...</td>\n",
       "    </tr>\n",
       "    <tr>\n",
       "      <th>2</th>\n",
       "      <td>Roxy Music</td>\n",
       "      <td>End Of The Line</td>\n",
       "      <td>Think I'll walk out in the rain  \\r\\nCalled yo...</td>\n",
       "    </tr>\n",
       "    <tr>\n",
       "      <th>3</th>\n",
       "      <td>Enya</td>\n",
       "      <td>Only If...</td>\n",
       "      <td>When there's a shadow near, reach for the sun ...</td>\n",
       "    </tr>\n",
       "    <tr>\n",
       "      <th>4</th>\n",
       "      <td>Eminem</td>\n",
       "      <td>Business</td>\n",
       "      <td>Marshall, sounds like an S.O.S.  \\r\\nHoly whac...</td>\n",
       "    </tr>\n",
       "    <tr>\n",
       "      <th>...</th>\n",
       "      <td>...</td>\n",
       "      <td>...</td>\n",
       "      <td>...</td>\n",
       "    </tr>\n",
       "    <tr>\n",
       "      <th>4995</th>\n",
       "      <td>Warren Zevon</td>\n",
       "      <td>Model Citizen</td>\n",
       "      <td>Don't bring the milk in  \\r\\nLeave it on the p...</td>\n",
       "    </tr>\n",
       "    <tr>\n",
       "      <th>4996</th>\n",
       "      <td>Kenny Loggins</td>\n",
       "      <td>Blue On Blue</td>\n",
       "      <td>Found your picture in an old coat  \\r\\nAnd the...</td>\n",
       "    </tr>\n",
       "    <tr>\n",
       "      <th>4997</th>\n",
       "      <td>The White Stripes</td>\n",
       "      <td>Screwdriver</td>\n",
       "      <td>Tuesday mornin' now  \\r\\nI gotta have somewher...</td>\n",
       "    </tr>\n",
       "    <tr>\n",
       "      <th>4998</th>\n",
       "      <td>Guns N' Roses</td>\n",
       "      <td>One In A Million</td>\n",
       "      <td>Yes I needed some time to get away  \\r\\nI need...</td>\n",
       "    </tr>\n",
       "    <tr>\n",
       "      <th>4999</th>\n",
       "      <td>Santana</td>\n",
       "      <td>Day Of Celebration</td>\n",
       "      <td>Freedom, freedom  \\r\\nGet up stand up, let's c...</td>\n",
       "    </tr>\n",
       "  </tbody>\n",
       "</table>\n",
       "<p>5000 rows × 3 columns</p>\n",
       "</div>"
      ],
      "text/plain": [
       "                 artist                            song  \\\n",
       "0         Kenny Chesney  She Don't Know She's Beautiful   \n",
       "1             Leo Sayer   You Make Me Feel Like Dancing   \n",
       "2            Roxy Music                 End Of The Line   \n",
       "3                  Enya                      Only If...   \n",
       "4                Eminem                        Business   \n",
       "...                 ...                             ...   \n",
       "4995       Warren Zevon                   Model Citizen   \n",
       "4996      Kenny Loggins                    Blue On Blue   \n",
       "4997  The White Stripes                     Screwdriver   \n",
       "4998      Guns N' Roses                One In A Million   \n",
       "4999            Santana              Day Of Celebration   \n",
       "\n",
       "                                                   text  \n",
       "0     We go out to a party somewhere  \\r\\nThe moment...  \n",
       "1     You've got a cute way of talking  \\r\\nYou got ...  \n",
       "2     Think I'll walk out in the rain  \\r\\nCalled yo...  \n",
       "3     When there's a shadow near, reach for the sun ...  \n",
       "4     Marshall, sounds like an S.O.S.  \\r\\nHoly whac...  \n",
       "...                                                 ...  \n",
       "4995  Don't bring the milk in  \\r\\nLeave it on the p...  \n",
       "4996  Found your picture in an old coat  \\r\\nAnd the...  \n",
       "4997  Tuesday mornin' now  \\r\\nI gotta have somewher...  \n",
       "4998  Yes I needed some time to get away  \\r\\nI need...  \n",
       "4999  Freedom, freedom  \\r\\nGet up stand up, let's c...  \n",
       "\n",
       "[5000 rows x 3 columns]"
      ]
     },
     "execution_count": 5,
     "metadata": {},
     "output_type": "execute_result"
    }
   ],
   "source": [
    "musics = musics.sample(5000).drop('link',axis = 1).reset_index(drop=True)\n",
    "musics"
   ]
  },
  {
   "cell_type": "code",
   "execution_count": 6,
   "id": "6ce8b3f5",
   "metadata": {},
   "outputs": [
    {
     "data": {
      "text/plain": [
       "(5000, 3)"
      ]
     },
     "execution_count": 6,
     "metadata": {},
     "output_type": "execute_result"
    }
   ],
   "source": [
    "musics.shape"
   ]
  },
  {
   "cell_type": "markdown",
   "id": "77e0728b",
   "metadata": {},
   "source": [
    "## Test Preprocessing \n",
    "Datasette bulunan text çok uzun ve gereksiz karakter içeriyor. Bunun temizlenmesi gerekiyor."
   ]
  },
  {
   "cell_type": "code",
   "execution_count": 7,
   "id": "6e6919d6",
   "metadata": {},
   "outputs": [
    {
     "data": {
      "text/html": [
       "<div>\n",
       "<style scoped>\n",
       "    .dataframe tbody tr th:only-of-type {\n",
       "        vertical-align: middle;\n",
       "    }\n",
       "\n",
       "    .dataframe tbody tr th {\n",
       "        vertical-align: top;\n",
       "    }\n",
       "\n",
       "    .dataframe thead th {\n",
       "        text-align: right;\n",
       "    }\n",
       "</style>\n",
       "<table border=\"1\" class=\"dataframe\">\n",
       "  <thead>\n",
       "    <tr style=\"text-align: right;\">\n",
       "      <th></th>\n",
       "      <th>artist</th>\n",
       "      <th>song</th>\n",
       "      <th>text</th>\n",
       "    </tr>\n",
       "  </thead>\n",
       "  <tbody>\n",
       "    <tr>\n",
       "      <th>0</th>\n",
       "      <td>Kenny Chesney</td>\n",
       "      <td>She Don't Know She's Beautiful</td>\n",
       "      <td>we go out to a party somewhere  \\r the moment ...</td>\n",
       "    </tr>\n",
       "    <tr>\n",
       "      <th>1</th>\n",
       "      <td>Leo Sayer</td>\n",
       "      <td>You Make Me Feel Like Dancing</td>\n",
       "      <td>you've got a cute way of talking  \\r you got t...</td>\n",
       "    </tr>\n",
       "    <tr>\n",
       "      <th>2</th>\n",
       "      <td>Roxy Music</td>\n",
       "      <td>End Of The Line</td>\n",
       "      <td>think i'll walk out in the rain  \\r called you...</td>\n",
       "    </tr>\n",
       "    <tr>\n",
       "      <th>3</th>\n",
       "      <td>Enya</td>\n",
       "      <td>Only If...</td>\n",
       "      <td>when there's a shadow near, reach for the sun ...</td>\n",
       "    </tr>\n",
       "    <tr>\n",
       "      <th>4</th>\n",
       "      <td>Eminem</td>\n",
       "      <td>Business</td>\n",
       "      <td>marshall, sounds like an s.o.s.  \\r holy whack...</td>\n",
       "    </tr>\n",
       "    <tr>\n",
       "      <th>...</th>\n",
       "      <td>...</td>\n",
       "      <td>...</td>\n",
       "      <td>...</td>\n",
       "    </tr>\n",
       "    <tr>\n",
       "      <th>4995</th>\n",
       "      <td>Warren Zevon</td>\n",
       "      <td>Model Citizen</td>\n",
       "      <td>don't bring the milk in  \\r leave it on the po...</td>\n",
       "    </tr>\n",
       "    <tr>\n",
       "      <th>4996</th>\n",
       "      <td>Kenny Loggins</td>\n",
       "      <td>Blue On Blue</td>\n",
       "      <td>found your picture in an old coat  \\r and the ...</td>\n",
       "    </tr>\n",
       "    <tr>\n",
       "      <th>4997</th>\n",
       "      <td>The White Stripes</td>\n",
       "      <td>Screwdriver</td>\n",
       "      <td>tuesday mornin' now  \\r i gotta have somewhere...</td>\n",
       "    </tr>\n",
       "    <tr>\n",
       "      <th>4998</th>\n",
       "      <td>Guns N' Roses</td>\n",
       "      <td>One In A Million</td>\n",
       "      <td>yes i needed some time to get away  \\r i neede...</td>\n",
       "    </tr>\n",
       "    <tr>\n",
       "      <th>4999</th>\n",
       "      <td>Santana</td>\n",
       "      <td>Day Of Celebration</td>\n",
       "      <td>freedom, freedom  \\r get up stand up, let's ce...</td>\n",
       "    </tr>\n",
       "  </tbody>\n",
       "</table>\n",
       "<p>5000 rows × 3 columns</p>\n",
       "</div>"
      ],
      "text/plain": [
       "                 artist                            song  \\\n",
       "0         Kenny Chesney  She Don't Know She's Beautiful   \n",
       "1             Leo Sayer   You Make Me Feel Like Dancing   \n",
       "2            Roxy Music                 End Of The Line   \n",
       "3                  Enya                      Only If...   \n",
       "4                Eminem                        Business   \n",
       "...                 ...                             ...   \n",
       "4995       Warren Zevon                   Model Citizen   \n",
       "4996      Kenny Loggins                    Blue On Blue   \n",
       "4997  The White Stripes                     Screwdriver   \n",
       "4998      Guns N' Roses                One In A Million   \n",
       "4999            Santana              Day Of Celebration   \n",
       "\n",
       "                                                   text  \n",
       "0     we go out to a party somewhere  \\r the moment ...  \n",
       "1     you've got a cute way of talking  \\r you got t...  \n",
       "2     think i'll walk out in the rain  \\r called you...  \n",
       "3     when there's a shadow near, reach for the sun ...  \n",
       "4     marshall, sounds like an s.o.s.  \\r holy whack...  \n",
       "...                                                 ...  \n",
       "4995  don't bring the milk in  \\r leave it on the po...  \n",
       "4996  found your picture in an old coat  \\r and the ...  \n",
       "4997  tuesday mornin' now  \\r i gotta have somewhere...  \n",
       "4998  yes i needed some time to get away  \\r i neede...  \n",
       "4999  freedom, freedom  \\r get up stand up, let's ce...  \n",
       "\n",
       "[5000 rows x 3 columns]"
      ]
     },
     "execution_count": 7,
     "metadata": {},
     "output_type": "execute_result"
    }
   ],
   "source": [
    "musics['text'] = musics['text'].str.lower().replace(r'^\\w\\s','').replace(r'\\n',' ',regex = True)\n",
    "musics"
   ]
  },
  {
   "cell_type": "markdown",
   "id": "c03fd1e6",
   "metadata": {},
   "source": [
    "* Text token'lara dönüştürülür.\n",
    "* Token'lardan vectorler elde edilir.\n",
    "* 3 teknikten biri kullanılır: TF-IDF, Bag if Word, Word2Vec"
   ]
  },
  {
   "cell_type": "markdown",
   "id": "e68e13c8",
   "metadata": {},
   "source": [
    "Tokenization işleminde benzer kelimler çok önemli, bunların aynı sayıyla temsiledilmesi gerekir.\n",
    "Ortak bir dil için stemmer kullanılır."
   ]
  },
  {
   "cell_type": "markdown",
   "id": "410cc1f3",
   "metadata": {},
   "source": [
    "Vektorizasyon işlemi ile tüm metinsel veri vektörler halinde temsil edilir."
   ]
  },
  {
   "cell_type": "markdown",
   "id": "5fa82038",
   "metadata": {},
   "source": [
    "Her vektörün mesafesi hesaplanır ve hesaplanan mesafeye göre şarkı önerisi yapılır.\n",
    "* Öklid mesafesi kullanılmaz.\n",
    "* Cosine Similarity kullanılacak."
   ]
  },
  {
   "cell_type": "markdown",
   "id": "85ee09be",
   "metadata": {},
   "source": [
    "## Tokenization\n",
    "Cümleler tokenlere ayrılır"
   ]
  },
  {
   "cell_type": "code",
   "execution_count": 8,
   "id": "e5a32bb9",
   "metadata": {},
   "outputs": [
    {
     "name": "stderr",
     "output_type": "stream",
     "text": [
      "[nltk_data] Downloading package punkt to\n",
      "[nltk_data]     C:\\Users\\emine\\AppData\\Roaming\\nltk_data...\n",
      "[nltk_data]   Package punkt is already up-to-date!\n"
     ]
    },
    {
     "data": {
      "text/plain": [
       "True"
      ]
     },
     "execution_count": 8,
     "metadata": {},
     "output_type": "execute_result"
    }
   ],
   "source": [
    "import nltk \n",
    "from nltk.stem.porter import PorterStemmer\n",
    "nltk.download('punkt')"
   ]
  },
  {
   "cell_type": "code",
   "execution_count": 9,
   "id": "89acdef5",
   "metadata": {},
   "outputs": [],
   "source": [
    "stemmer = PorterStemmer()"
   ]
  },
  {
   "cell_type": "code",
   "execution_count": 10,
   "id": "1cfef164",
   "metadata": {},
   "outputs": [],
   "source": [
    "def token(txt):\n",
    "    token = nltk.word_tokenize(txt)\n",
    "    tokens = [stemmer.stem(w) for w in token]\n",
    "    return \" \".join(tokens)"
   ]
  },
  {
   "cell_type": "code",
   "execution_count": 11,
   "id": "e44bad6b",
   "metadata": {},
   "outputs": [
    {
     "data": {
      "text/plain": [
       "'you are beati'"
      ]
     },
     "execution_count": 11,
     "metadata": {},
     "output_type": "execute_result"
    }
   ],
   "source": [
    "token('you are beatiful')"
   ]
  },
  {
   "cell_type": "markdown",
   "id": "0a6fd394",
   "metadata": {},
   "source": [
    "Tüm dataset tokenleştirilir."
   ]
  },
  {
   "cell_type": "code",
   "execution_count": 12,
   "id": "4bd0e173",
   "metadata": {},
   "outputs": [
    {
     "data": {
      "text/plain": [
       "0       we go out to a parti somewher the moment we wa...\n",
       "1       you 've got a cute way of talk you got the bet...\n",
       "2       think i 'll walk out in the rain call you time...\n",
       "3       when there 's a shadow near , reach for the su...\n",
       "4       marshal , sound like an s.o. . holi whack unly...\n",
       "                              ...                        \n",
       "4995    do n't bring the milk in leav it on the porch ...\n",
       "4996    found your pictur in an old coat and the ghost...\n",
       "4997    tuesday mornin ' now i got ta have somewher to...\n",
       "4998    ye i need some time to get away i need some pe...\n",
       "4999    freedom , freedom get up stand up , let 's cel...\n",
       "Name: text, Length: 5000, dtype: object"
      ]
     },
     "execution_count": 12,
     "metadata": {},
     "output_type": "execute_result"
    }
   ],
   "source": [
    "musics['text'].apply(lambda x:token(x))"
   ]
  },
  {
   "cell_type": "markdown",
   "id": "69ba85f4",
   "metadata": {},
   "source": [
    "## Vectorization \n",
    "Her bir tokene karşılık gelen bir sayı belirlenir, ve cümleler vektör haline getirilir.\n",
    "\n",
    "Tf-Idf tekniği kullanılır.\n",
    "* TfidVectorizer\n",
    "\n",
    "Distance hesaplamak için cosine_similarity kullanılır."
   ]
  },
  {
   "cell_type": "code",
   "execution_count": 13,
   "id": "3058edf0",
   "metadata": {},
   "outputs": [],
   "source": [
    "from sklearn.feature_extraction.text import TfidfVectorizer\n",
    "from sklearn.metrics.pairwise import cosine_similarity"
   ]
  },
  {
   "cell_type": "code",
   "execution_count": 14,
   "id": "963aa167",
   "metadata": {},
   "outputs": [],
   "source": [
    "tfid = TfidfVectorizer(analyzer= 'word',stop_words = 'english')"
   ]
  },
  {
   "cell_type": "code",
   "execution_count": 15,
   "id": "16992ef4",
   "metadata": {},
   "outputs": [],
   "source": [
    "matrix = tfid.fit_transform(musics['text'])"
   ]
  },
  {
   "cell_type": "code",
   "execution_count": 16,
   "id": "f3f9ed99",
   "metadata": {},
   "outputs": [],
   "source": [
    "smiler = cosine_similarity(matrix)"
   ]
  },
  {
   "cell_type": "code",
   "execution_count": 17,
   "id": "3e462e0d",
   "metadata": {},
   "outputs": [
    {
     "data": {
      "text/plain": [
       "array([1.        , 0.02062241, 0.08004748, ..., 0.01386358, 0.08565929,\n",
       "       0.05221624])"
      ]
     },
     "execution_count": 17,
     "metadata": {},
     "output_type": "execute_result"
    }
   ],
   "source": [
    "smiler[0]"
   ]
  },
  {
   "cell_type": "markdown",
   "id": "456bc12c",
   "metadata": {},
   "source": [
    "Recommender"
   ]
  },
  {
   "cell_type": "code",
   "execution_count": 18,
   "id": "0c551ffd",
   "metadata": {},
   "outputs": [],
   "source": [
    "def recommender(song_name):\n",
    "    idx =  musics[musics['song'] == song_name].index[0]\n",
    "    distance = sorted(list(enumerate(smiler[idx])),reverse=True, key=lambda x:x[1])\n",
    "    song = []\n",
    "    for s_id in distance[1:20]:\n",
    "        song.append(musics.iloc[s_id[0]].song)\n",
    "    return song"
   ]
  },
  {
   "cell_type": "code",
   "execution_count": 21,
   "id": "5768c949",
   "metadata": {},
   "outputs": [],
   "source": [
    "songs = recommender(\"You Make Me Feel Like Dancing\")"
   ]
  },
  {
   "cell_type": "code",
   "execution_count": 22,
   "id": "448de93b",
   "metadata": {},
   "outputs": [
    {
     "data": {
      "text/plain": [
       "['Daily Disco',\n",
       " 'Jupiter Spin',\n",
       " 'Dancing In The Dark',\n",
       " 'Back Street Joe',\n",
       " 'I Could Sing Of Your Love Forever',\n",
       " 'Cheek To Cheek',\n",
       " 'Cheek To Cheek',\n",
       " 'Cheek To Cheek',\n",
       " 'Cheek To Cheek',\n",
       " \"John, I'm Only Dancing\",\n",
       " 'Like A Machine',\n",
       " 'Do You Wanna Dance?',\n",
       " 'We Own The Night',\n",
       " 'Why',\n",
       " 'I Feel Like Dying',\n",
       " 'Only Girl',\n",
       " 'Nothing To Fear',\n",
       " 'I Wanna Dance With Somebody',\n",
       " 'Feel You All Over']"
      ]
     },
     "execution_count": 22,
     "metadata": {},
     "output_type": "execute_result"
    }
   ],
   "source": [
    "songs"
   ]
  },
  {
   "cell_type": "code",
   "execution_count": 20,
   "id": "2d550309",
   "metadata": {},
   "outputs": [
    {
     "data": {
      "text/html": [
       "<div>\n",
       "<style scoped>\n",
       "    .dataframe tbody tr th:only-of-type {\n",
       "        vertical-align: middle;\n",
       "    }\n",
       "\n",
       "    .dataframe tbody tr th {\n",
       "        vertical-align: top;\n",
       "    }\n",
       "\n",
       "    .dataframe thead th {\n",
       "        text-align: right;\n",
       "    }\n",
       "</style>\n",
       "<table border=\"1\" class=\"dataframe\">\n",
       "  <thead>\n",
       "    <tr style=\"text-align: right;\">\n",
       "      <th></th>\n",
       "      <th>artist</th>\n",
       "      <th>song</th>\n",
       "      <th>text</th>\n",
       "    </tr>\n",
       "  </thead>\n",
       "  <tbody>\n",
       "    <tr>\n",
       "      <th>0</th>\n",
       "      <td>Kenny Chesney</td>\n",
       "      <td>She Don't Know She's Beautiful</td>\n",
       "      <td>we go out to a party somewhere  \\r the moment ...</td>\n",
       "    </tr>\n",
       "    <tr>\n",
       "      <th>1</th>\n",
       "      <td>Leo Sayer</td>\n",
       "      <td>You Make Me Feel Like Dancing</td>\n",
       "      <td>you've got a cute way of talking  \\r you got t...</td>\n",
       "    </tr>\n",
       "    <tr>\n",
       "      <th>2</th>\n",
       "      <td>Roxy Music</td>\n",
       "      <td>End Of The Line</td>\n",
       "      <td>think i'll walk out in the rain  \\r called you...</td>\n",
       "    </tr>\n",
       "    <tr>\n",
       "      <th>3</th>\n",
       "      <td>Enya</td>\n",
       "      <td>Only If...</td>\n",
       "      <td>when there's a shadow near, reach for the sun ...</td>\n",
       "    </tr>\n",
       "    <tr>\n",
       "      <th>4</th>\n",
       "      <td>Eminem</td>\n",
       "      <td>Business</td>\n",
       "      <td>marshall, sounds like an s.o.s.  \\r holy whack...</td>\n",
       "    </tr>\n",
       "    <tr>\n",
       "      <th>...</th>\n",
       "      <td>...</td>\n",
       "      <td>...</td>\n",
       "      <td>...</td>\n",
       "    </tr>\n",
       "    <tr>\n",
       "      <th>4995</th>\n",
       "      <td>Warren Zevon</td>\n",
       "      <td>Model Citizen</td>\n",
       "      <td>don't bring the milk in  \\r leave it on the po...</td>\n",
       "    </tr>\n",
       "    <tr>\n",
       "      <th>4996</th>\n",
       "      <td>Kenny Loggins</td>\n",
       "      <td>Blue On Blue</td>\n",
       "      <td>found your picture in an old coat  \\r and the ...</td>\n",
       "    </tr>\n",
       "    <tr>\n",
       "      <th>4997</th>\n",
       "      <td>The White Stripes</td>\n",
       "      <td>Screwdriver</td>\n",
       "      <td>tuesday mornin' now  \\r i gotta have somewhere...</td>\n",
       "    </tr>\n",
       "    <tr>\n",
       "      <th>4998</th>\n",
       "      <td>Guns N' Roses</td>\n",
       "      <td>One In A Million</td>\n",
       "      <td>yes i needed some time to get away  \\r i neede...</td>\n",
       "    </tr>\n",
       "    <tr>\n",
       "      <th>4999</th>\n",
       "      <td>Santana</td>\n",
       "      <td>Day Of Celebration</td>\n",
       "      <td>freedom, freedom  \\r get up stand up, let's ce...</td>\n",
       "    </tr>\n",
       "  </tbody>\n",
       "</table>\n",
       "<p>5000 rows × 3 columns</p>\n",
       "</div>"
      ],
      "text/plain": [
       "                 artist                            song  \\\n",
       "0         Kenny Chesney  She Don't Know She's Beautiful   \n",
       "1             Leo Sayer   You Make Me Feel Like Dancing   \n",
       "2            Roxy Music                 End Of The Line   \n",
       "3                  Enya                      Only If...   \n",
       "4                Eminem                        Business   \n",
       "...                 ...                             ...   \n",
       "4995       Warren Zevon                   Model Citizen   \n",
       "4996      Kenny Loggins                    Blue On Blue   \n",
       "4997  The White Stripes                     Screwdriver   \n",
       "4998      Guns N' Roses                One In A Million   \n",
       "4999            Santana              Day Of Celebration   \n",
       "\n",
       "                                                   text  \n",
       "0     we go out to a party somewhere  \\r the moment ...  \n",
       "1     you've got a cute way of talking  \\r you got t...  \n",
       "2     think i'll walk out in the rain  \\r called you...  \n",
       "3     when there's a shadow near, reach for the sun ...  \n",
       "4     marshall, sounds like an s.o.s.  \\r holy whack...  \n",
       "...                                                 ...  \n",
       "4995  don't bring the milk in  \\r leave it on the po...  \n",
       "4996  found your picture in an old coat  \\r and the ...  \n",
       "4997  tuesday mornin' now  \\r i gotta have somewhere...  \n",
       "4998  yes i needed some time to get away  \\r i neede...  \n",
       "4999  freedom, freedom  \\r get up stand up, let's ce...  \n",
       "\n",
       "[5000 rows x 3 columns]"
      ]
     },
     "execution_count": 20,
     "metadata": {},
     "output_type": "execute_result"
    }
   ],
   "source": [
    "musics"
   ]
  },
  {
   "cell_type": "code",
   "execution_count": 102,
   "id": "1e9cb108",
   "metadata": {},
   "outputs": [],
   "source": [
    "songs = musics[musics['song'].isin(songs)][['artist', 'song']]"
   ]
  },
  {
   "cell_type": "code",
   "execution_count": 103,
   "id": "216cdbfe",
   "metadata": {},
   "outputs": [
    {
     "data": {
      "text/html": [
       "<div>\n",
       "<style scoped>\n",
       "    .dataframe tbody tr th:only-of-type {\n",
       "        vertical-align: middle;\n",
       "    }\n",
       "\n",
       "    .dataframe tbody tr th {\n",
       "        vertical-align: top;\n",
       "    }\n",
       "\n",
       "    .dataframe thead th {\n",
       "        text-align: right;\n",
       "    }\n",
       "</style>\n",
       "<table border=\"1\" class=\"dataframe\">\n",
       "  <thead>\n",
       "    <tr style=\"text-align: right;\">\n",
       "      <th></th>\n",
       "      <th>artist</th>\n",
       "      <th>song</th>\n",
       "    </tr>\n",
       "  </thead>\n",
       "  <tbody>\n",
       "    <tr>\n",
       "      <th>340</th>\n",
       "      <td>Peter Cetera</td>\n",
       "      <td>Only Love Knows Why</td>\n",
       "    </tr>\n",
       "    <tr>\n",
       "      <th>664</th>\n",
       "      <td>NOFX</td>\n",
       "      <td>American Errorist</td>\n",
       "    </tr>\n",
       "    <tr>\n",
       "      <th>872</th>\n",
       "      <td>Hanson</td>\n",
       "      <td>I Am</td>\n",
       "    </tr>\n",
       "    <tr>\n",
       "      <th>1368</th>\n",
       "      <td>Christina Aguilera</td>\n",
       "      <td>Make The World Move</td>\n",
       "    </tr>\n",
       "    <tr>\n",
       "      <th>1613</th>\n",
       "      <td>Offspring</td>\n",
       "      <td>Cool To Hate</td>\n",
       "    </tr>\n",
       "    <tr>\n",
       "      <th>2284</th>\n",
       "      <td>Alphaville</td>\n",
       "      <td>Spirit Of The Age</td>\n",
       "    </tr>\n",
       "    <tr>\n",
       "      <th>2314</th>\n",
       "      <td>Kris Kristofferson</td>\n",
       "      <td>Jesus Was A Capricorn</td>\n",
       "    </tr>\n",
       "    <tr>\n",
       "      <th>2391</th>\n",
       "      <td>Beautiful South</td>\n",
       "      <td>Bell-Bottomed Tear</td>\n",
       "    </tr>\n",
       "    <tr>\n",
       "      <th>3131</th>\n",
       "      <td>Dusty Springfield</td>\n",
       "      <td>Another Night</td>\n",
       "    </tr>\n",
       "    <tr>\n",
       "      <th>3174</th>\n",
       "      <td>Unseen</td>\n",
       "      <td>No Master Race</td>\n",
       "    </tr>\n",
       "    <tr>\n",
       "      <th>3699</th>\n",
       "      <td>Elvis Costello</td>\n",
       "      <td>I'll Wear It Proudly</td>\n",
       "    </tr>\n",
       "    <tr>\n",
       "      <th>3732</th>\n",
       "      <td>Cinderella</td>\n",
       "      <td>Soul Creation By Cinder</td>\n",
       "    </tr>\n",
       "    <tr>\n",
       "      <th>3754</th>\n",
       "      <td>John Prine</td>\n",
       "      <td>I Hate It When That Happens To Me</td>\n",
       "    </tr>\n",
       "    <tr>\n",
       "      <th>4343</th>\n",
       "      <td>King Diamond</td>\n",
       "      <td>I Am</td>\n",
       "    </tr>\n",
       "    <tr>\n",
       "      <th>4375</th>\n",
       "      <td>Korn</td>\n",
       "      <td>Make Believe</td>\n",
       "    </tr>\n",
       "    <tr>\n",
       "      <th>4412</th>\n",
       "      <td>Green Day</td>\n",
       "      <td>Platypus</td>\n",
       "    </tr>\n",
       "    <tr>\n",
       "      <th>4417</th>\n",
       "      <td>Alison Krauss</td>\n",
       "      <td>Another Night</td>\n",
       "    </tr>\n",
       "    <tr>\n",
       "      <th>4564</th>\n",
       "      <td>Ozzy Osbourne</td>\n",
       "      <td>Love To Hate</td>\n",
       "    </tr>\n",
       "    <tr>\n",
       "      <th>4610</th>\n",
       "      <td>Howard Jones</td>\n",
       "      <td>Pearl In The Shell</td>\n",
       "    </tr>\n",
       "    <tr>\n",
       "      <th>4664</th>\n",
       "      <td>Scorpions</td>\n",
       "      <td>Crying Days</td>\n",
       "    </tr>\n",
       "    <tr>\n",
       "      <th>4764</th>\n",
       "      <td>Yellowcard</td>\n",
       "      <td>For You, and Your Denial</td>\n",
       "    </tr>\n",
       "  </tbody>\n",
       "</table>\n",
       "</div>"
      ],
      "text/plain": [
       "                  artist                               song\n",
       "340         Peter Cetera                Only Love Knows Why\n",
       "664                 NOFX                  American Errorist\n",
       "872               Hanson                               I Am\n",
       "1368  Christina Aguilera                Make The World Move\n",
       "1613           Offspring                       Cool To Hate\n",
       "2284          Alphaville                  Spirit Of The Age\n",
       "2314  Kris Kristofferson              Jesus Was A Capricorn\n",
       "2391     Beautiful South                 Bell-Bottomed Tear\n",
       "3131   Dusty Springfield                      Another Night\n",
       "3174              Unseen                     No Master Race\n",
       "3699      Elvis Costello               I'll Wear It Proudly\n",
       "3732          Cinderella            Soul Creation By Cinder\n",
       "3754          John Prine  I Hate It When That Happens To Me\n",
       "4343        King Diamond                               I Am\n",
       "4375                Korn                       Make Believe\n",
       "4412           Green Day                           Platypus\n",
       "4417       Alison Krauss                      Another Night\n",
       "4564       Ozzy Osbourne                       Love To Hate\n",
       "4610        Howard Jones                 Pearl In The Shell\n",
       "4664           Scorpions                        Crying Days\n",
       "4764          Yellowcard           For You, and Your Denial"
      ]
     },
     "execution_count": 103,
     "metadata": {},
     "output_type": "execute_result"
    }
   ],
   "source": [
    "songs"
   ]
  },
  {
   "cell_type": "markdown",
   "id": "ed009898",
   "metadata": {},
   "source": [
    "Json dosyasına kaydedilir."
   ]
  },
  {
   "cell_type": "code",
   "execution_count": 104,
   "id": "e16ae344",
   "metadata": {},
   "outputs": [],
   "source": [
    "songs.to_json(\"songs.json\")"
   ]
  },
  {
   "cell_type": "code",
   "execution_count": null,
   "id": "1e31e5f3",
   "metadata": {},
   "outputs": [],
   "source": []
  }
 ],
 "metadata": {
  "kernelspec": {
   "display_name": "Python 3 (ipykernel)",
   "language": "python",
   "name": "python3"
  },
  "language_info": {
   "codemirror_mode": {
    "name": "ipython",
    "version": 3
   },
   "file_extension": ".py",
   "mimetype": "text/x-python",
   "name": "python",
   "nbconvert_exporter": "python",
   "pygments_lexer": "ipython3",
   "version": "3.11.5"
  }
 },
 "nbformat": 4,
 "nbformat_minor": 5
}
