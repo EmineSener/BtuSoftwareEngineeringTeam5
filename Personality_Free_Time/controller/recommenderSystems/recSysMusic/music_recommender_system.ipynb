{
 "cells": [
  {
   "cell_type": "markdown",
   "id": "f1eef71e",
   "metadata": {},
   "source": [
    "# Müzik Öneri Sistemi\n",
    "Müzik öneri sisteminde `Content Based` İçerik Tabanlı öneriler yapılacak.\n",
    "\n",
    "İçerik tabanlı öneri sisteminde müziklerin sözlerine odaklanılır."
   ]
  },
  {
   "cell_type": "code",
   "execution_count": 61,
   "id": "58e140ba",
   "metadata": {},
   "outputs": [],
   "source": [
    "import pandas as pd\n",
    "import numpy as np"
   ]
  },
  {
   "cell_type": "code",
   "execution_count": 62,
   "id": "48be665b",
   "metadata": {},
   "outputs": [
    {
     "data": {
      "text/html": [
       "<div>\n",
       "<style scoped>\n",
       "    .dataframe tbody tr th:only-of-type {\n",
       "        vertical-align: middle;\n",
       "    }\n",
       "\n",
       "    .dataframe tbody tr th {\n",
       "        vertical-align: top;\n",
       "    }\n",
       "\n",
       "    .dataframe thead th {\n",
       "        text-align: right;\n",
       "    }\n",
       "</style>\n",
       "<table border=\"1\" class=\"dataframe\">\n",
       "  <thead>\n",
       "    <tr style=\"text-align: right;\">\n",
       "      <th></th>\n",
       "      <th>artist</th>\n",
       "      <th>song</th>\n",
       "      <th>link</th>\n",
       "      <th>text</th>\n",
       "    </tr>\n",
       "  </thead>\n",
       "  <tbody>\n",
       "    <tr>\n",
       "      <th>0</th>\n",
       "      <td>ABBA</td>\n",
       "      <td>Ahe's My Kind Of Girl</td>\n",
       "      <td>/a/abba/ahes+my+kind+of+girl_20598417.html</td>\n",
       "      <td>Look at her face, it's a wonderful face  \\r\\nA...</td>\n",
       "    </tr>\n",
       "    <tr>\n",
       "      <th>1</th>\n",
       "      <td>ABBA</td>\n",
       "      <td>Andante, Andante</td>\n",
       "      <td>/a/abba/andante+andante_20002708.html</td>\n",
       "      <td>Take it easy with me, please  \\r\\nTouch me gen...</td>\n",
       "    </tr>\n",
       "    <tr>\n",
       "      <th>2</th>\n",
       "      <td>ABBA</td>\n",
       "      <td>As Good As New</td>\n",
       "      <td>/a/abba/as+good+as+new_20003033.html</td>\n",
       "      <td>I'll never know why I had to go  \\r\\nWhy I had...</td>\n",
       "    </tr>\n",
       "    <tr>\n",
       "      <th>3</th>\n",
       "      <td>ABBA</td>\n",
       "      <td>Bang</td>\n",
       "      <td>/a/abba/bang_20598415.html</td>\n",
       "      <td>Making somebody happy is a question of give an...</td>\n",
       "    </tr>\n",
       "    <tr>\n",
       "      <th>4</th>\n",
       "      <td>ABBA</td>\n",
       "      <td>Bang-A-Boomerang</td>\n",
       "      <td>/a/abba/bang+a+boomerang_20002668.html</td>\n",
       "      <td>Making somebody happy is a question of give an...</td>\n",
       "    </tr>\n",
       "  </tbody>\n",
       "</table>\n",
       "</div>"
      ],
      "text/plain": [
       "  artist                   song                                        link  \\\n",
       "0   ABBA  Ahe's My Kind Of Girl  /a/abba/ahes+my+kind+of+girl_20598417.html   \n",
       "1   ABBA       Andante, Andante       /a/abba/andante+andante_20002708.html   \n",
       "2   ABBA         As Good As New        /a/abba/as+good+as+new_20003033.html   \n",
       "3   ABBA                   Bang                  /a/abba/bang_20598415.html   \n",
       "4   ABBA       Bang-A-Boomerang      /a/abba/bang+a+boomerang_20002668.html   \n",
       "\n",
       "                                                text  \n",
       "0  Look at her face, it's a wonderful face  \\r\\nA...  \n",
       "1  Take it easy with me, please  \\r\\nTouch me gen...  \n",
       "2  I'll never know why I had to go  \\r\\nWhy I had...  \n",
       "3  Making somebody happy is a question of give an...  \n",
       "4  Making somebody happy is a question of give an...  "
      ]
     },
     "execution_count": 62,
     "metadata": {},
     "output_type": "execute_result"
    }
   ],
   "source": [
    "musics = pd.read_csv('spotify_millsongdata.csv')\n",
    "musics.head()"
   ]
  },
  {
   "cell_type": "code",
   "execution_count": 63,
   "id": "f3c6b918",
   "metadata": {},
   "outputs": [
    {
     "data": {
      "text/plain": [
       "(57650, 4)"
      ]
     },
     "execution_count": 63,
     "metadata": {},
     "output_type": "execute_result"
    }
   ],
   "source": [
    "musics.shape"
   ]
  },
  {
   "cell_type": "markdown",
   "id": "259aea33",
   "metadata": {},
   "source": [
    "Null değerler kontrol edilir."
   ]
  },
  {
   "cell_type": "code",
   "execution_count": 64,
   "id": "de134a74",
   "metadata": {},
   "outputs": [
    {
     "data": {
      "text/plain": [
       "artist    0\n",
       "song      0\n",
       "link      0\n",
       "text      0\n",
       "dtype: int64"
      ]
     },
     "execution_count": 64,
     "metadata": {},
     "output_type": "execute_result"
    }
   ],
   "source": [
    "musics.isnull().sum()"
   ]
  },
  {
   "cell_type": "markdown",
   "id": "d2055c6c",
   "metadata": {},
   "source": [
    "Öneri sisteminde kullanılmayacak olan alanlar datasetten çıkartılır."
   ]
  },
  {
   "cell_type": "markdown",
   "id": "b6e25ebe",
   "metadata": {},
   "source": [
    "Uygulamamızda içeriklerin doğru olması kadar hızlı bir şekilde gösterilmesi de önemlidir. Bunun için database 5000 örnek olarak küçültülür."
   ]
  },
  {
   "cell_type": "code",
   "execution_count": 65,
   "id": "2600227d",
   "metadata": {},
   "outputs": [
    {
     "data": {
      "text/html": [
       "<div>\n",
       "<style scoped>\n",
       "    .dataframe tbody tr th:only-of-type {\n",
       "        vertical-align: middle;\n",
       "    }\n",
       "\n",
       "    .dataframe tbody tr th {\n",
       "        vertical-align: top;\n",
       "    }\n",
       "\n",
       "    .dataframe thead th {\n",
       "        text-align: right;\n",
       "    }\n",
       "</style>\n",
       "<table border=\"1\" class=\"dataframe\">\n",
       "  <thead>\n",
       "    <tr style=\"text-align: right;\">\n",
       "      <th></th>\n",
       "      <th>artist</th>\n",
       "      <th>song</th>\n",
       "      <th>text</th>\n",
       "    </tr>\n",
       "  </thead>\n",
       "  <tbody>\n",
       "    <tr>\n",
       "      <th>0</th>\n",
       "      <td>Cyndi Lauper</td>\n",
       "      <td>A Part Hate</td>\n",
       "      <td>Somber sister  \\r\\nThis is a strange and bitte...</td>\n",
       "    </tr>\n",
       "    <tr>\n",
       "      <th>1</th>\n",
       "      <td>Cat Stevens</td>\n",
       "      <td>Randy</td>\n",
       "      <td>Oh randy, if they knew.  \\r\\nI think they'd ta...</td>\n",
       "    </tr>\n",
       "    <tr>\n",
       "      <th>2</th>\n",
       "      <td>Pat Benatar</td>\n",
       "      <td>Tell Me</td>\n",
       "      <td>Why do I have these thoughts go through my hea...</td>\n",
       "    </tr>\n",
       "    <tr>\n",
       "      <th>3</th>\n",
       "      <td>Ziggy Marley</td>\n",
       "      <td>Head Top</td>\n",
       "      <td>The session is nice, feel real good  \\r\\nThe s...</td>\n",
       "    </tr>\n",
       "    <tr>\n",
       "      <th>4</th>\n",
       "      <td>Grateful Dead</td>\n",
       "      <td>Hey Jude</td>\n",
       "      <td>Hey Jude don't make it bad  \\r\\nTake a sad son...</td>\n",
       "    </tr>\n",
       "    <tr>\n",
       "      <th>...</th>\n",
       "      <td>...</td>\n",
       "      <td>...</td>\n",
       "      <td>...</td>\n",
       "    </tr>\n",
       "    <tr>\n",
       "      <th>4995</th>\n",
       "      <td>Christina Perri</td>\n",
       "      <td>Backwards</td>\n",
       "      <td>Take me backwards  \\r\\nTurn me around  \\r\\nCan...</td>\n",
       "    </tr>\n",
       "    <tr>\n",
       "      <th>4996</th>\n",
       "      <td>John Prine</td>\n",
       "      <td>Everybody Wants To Feel Like You</td>\n",
       "      <td>While out sailing on the ocean  \\r\\nWhile out ...</td>\n",
       "    </tr>\n",
       "    <tr>\n",
       "      <th>4997</th>\n",
       "      <td>Halloween</td>\n",
       "      <td>Witches' Brew</td>\n",
       "      <td>By Hap Palmer  \\r\\n  \\r\\nDead leaves, seaweed,...</td>\n",
       "    </tr>\n",
       "    <tr>\n",
       "      <th>4998</th>\n",
       "      <td>Allman Brothers Band</td>\n",
       "      <td>Dreams</td>\n",
       "      <td>Just one more mornin, I had to wake up with th...</td>\n",
       "    </tr>\n",
       "    <tr>\n",
       "      <th>4999</th>\n",
       "      <td>Gloria Estefan</td>\n",
       "      <td>Cuts Both Ways</td>\n",
       "      <td>It cuts both ways  \\r\\nOur love is like knife ...</td>\n",
       "    </tr>\n",
       "  </tbody>\n",
       "</table>\n",
       "<p>5000 rows × 3 columns</p>\n",
       "</div>"
      ],
      "text/plain": [
       "                    artist                              song  \\\n",
       "0             Cyndi Lauper                       A Part Hate   \n",
       "1              Cat Stevens                             Randy   \n",
       "2              Pat Benatar                           Tell Me   \n",
       "3             Ziggy Marley                          Head Top   \n",
       "4            Grateful Dead                          Hey Jude   \n",
       "...                    ...                               ...   \n",
       "4995       Christina Perri                         Backwards   \n",
       "4996            John Prine  Everybody Wants To Feel Like You   \n",
       "4997             Halloween                     Witches' Brew   \n",
       "4998  Allman Brothers Band                            Dreams   \n",
       "4999        Gloria Estefan                    Cuts Both Ways   \n",
       "\n",
       "                                                   text  \n",
       "0     Somber sister  \\r\\nThis is a strange and bitte...  \n",
       "1     Oh randy, if they knew.  \\r\\nI think they'd ta...  \n",
       "2     Why do I have these thoughts go through my hea...  \n",
       "3     The session is nice, feel real good  \\r\\nThe s...  \n",
       "4     Hey Jude don't make it bad  \\r\\nTake a sad son...  \n",
       "...                                                 ...  \n",
       "4995  Take me backwards  \\r\\nTurn me around  \\r\\nCan...  \n",
       "4996  While out sailing on the ocean  \\r\\nWhile out ...  \n",
       "4997  By Hap Palmer  \\r\\n  \\r\\nDead leaves, seaweed,...  \n",
       "4998  Just one more mornin, I had to wake up with th...  \n",
       "4999  It cuts both ways  \\r\\nOur love is like knife ...  \n",
       "\n",
       "[5000 rows x 3 columns]"
      ]
     },
     "execution_count": 65,
     "metadata": {},
     "output_type": "execute_result"
    }
   ],
   "source": [
    "musics = musics.sample(5000).drop('link',axis = 1).reset_index(drop=True)\n",
    "musics"
   ]
  },
  {
   "cell_type": "code",
   "execution_count": 66,
   "id": "6ce8b3f5",
   "metadata": {},
   "outputs": [
    {
     "data": {
      "text/plain": [
       "(5000, 3)"
      ]
     },
     "execution_count": 66,
     "metadata": {},
     "output_type": "execute_result"
    }
   ],
   "source": [
    "musics.shape"
   ]
  },
  {
   "cell_type": "markdown",
   "id": "77e0728b",
   "metadata": {},
   "source": [
    "## Test Preprocessing \n",
    "Datasette bulunan text çok uzun ve gereksiz karakter içeriyor. Bunun temizlenmesi gerekiyor."
   ]
  },
  {
   "cell_type": "code",
   "execution_count": 67,
   "id": "6e6919d6",
   "metadata": {},
   "outputs": [
    {
     "data": {
      "text/html": [
       "<div>\n",
       "<style scoped>\n",
       "    .dataframe tbody tr th:only-of-type {\n",
       "        vertical-align: middle;\n",
       "    }\n",
       "\n",
       "    .dataframe tbody tr th {\n",
       "        vertical-align: top;\n",
       "    }\n",
       "\n",
       "    .dataframe thead th {\n",
       "        text-align: right;\n",
       "    }\n",
       "</style>\n",
       "<table border=\"1\" class=\"dataframe\">\n",
       "  <thead>\n",
       "    <tr style=\"text-align: right;\">\n",
       "      <th></th>\n",
       "      <th>artist</th>\n",
       "      <th>song</th>\n",
       "      <th>text</th>\n",
       "    </tr>\n",
       "  </thead>\n",
       "  <tbody>\n",
       "    <tr>\n",
       "      <th>0</th>\n",
       "      <td>Cyndi Lauper</td>\n",
       "      <td>A Part Hate</td>\n",
       "      <td>somber sister  \\r this is a strange and bitter...</td>\n",
       "    </tr>\n",
       "    <tr>\n",
       "      <th>1</th>\n",
       "      <td>Cat Stevens</td>\n",
       "      <td>Randy</td>\n",
       "      <td>oh randy, if they knew.  \\r i think they'd tak...</td>\n",
       "    </tr>\n",
       "    <tr>\n",
       "      <th>2</th>\n",
       "      <td>Pat Benatar</td>\n",
       "      <td>Tell Me</td>\n",
       "      <td>why do i have these thoughts go through my hea...</td>\n",
       "    </tr>\n",
       "    <tr>\n",
       "      <th>3</th>\n",
       "      <td>Ziggy Marley</td>\n",
       "      <td>Head Top</td>\n",
       "      <td>the session is nice, feel real good  \\r the se...</td>\n",
       "    </tr>\n",
       "    <tr>\n",
       "      <th>4</th>\n",
       "      <td>Grateful Dead</td>\n",
       "      <td>Hey Jude</td>\n",
       "      <td>hey jude don't make it bad  \\r take a sad song...</td>\n",
       "    </tr>\n",
       "    <tr>\n",
       "      <th>...</th>\n",
       "      <td>...</td>\n",
       "      <td>...</td>\n",
       "      <td>...</td>\n",
       "    </tr>\n",
       "    <tr>\n",
       "      <th>4995</th>\n",
       "      <td>Christina Perri</td>\n",
       "      <td>Backwards</td>\n",
       "      <td>take me backwards  \\r turn me around  \\r canno...</td>\n",
       "    </tr>\n",
       "    <tr>\n",
       "      <th>4996</th>\n",
       "      <td>John Prine</td>\n",
       "      <td>Everybody Wants To Feel Like You</td>\n",
       "      <td>while out sailing on the ocean  \\r while out s...</td>\n",
       "    </tr>\n",
       "    <tr>\n",
       "      <th>4997</th>\n",
       "      <td>Halloween</td>\n",
       "      <td>Witches' Brew</td>\n",
       "      <td>by hap palmer  \\r   \\r dead leaves, seaweed, r...</td>\n",
       "    </tr>\n",
       "    <tr>\n",
       "      <th>4998</th>\n",
       "      <td>Allman Brothers Band</td>\n",
       "      <td>Dreams</td>\n",
       "      <td>just one more mornin, i had to wake up with th...</td>\n",
       "    </tr>\n",
       "    <tr>\n",
       "      <th>4999</th>\n",
       "      <td>Gloria Estefan</td>\n",
       "      <td>Cuts Both Ways</td>\n",
       "      <td>it cuts both ways  \\r our love is like knife t...</td>\n",
       "    </tr>\n",
       "  </tbody>\n",
       "</table>\n",
       "<p>5000 rows × 3 columns</p>\n",
       "</div>"
      ],
      "text/plain": [
       "                    artist                              song  \\\n",
       "0             Cyndi Lauper                       A Part Hate   \n",
       "1              Cat Stevens                             Randy   \n",
       "2              Pat Benatar                           Tell Me   \n",
       "3             Ziggy Marley                          Head Top   \n",
       "4            Grateful Dead                          Hey Jude   \n",
       "...                    ...                               ...   \n",
       "4995       Christina Perri                         Backwards   \n",
       "4996            John Prine  Everybody Wants To Feel Like You   \n",
       "4997             Halloween                     Witches' Brew   \n",
       "4998  Allman Brothers Band                            Dreams   \n",
       "4999        Gloria Estefan                    Cuts Both Ways   \n",
       "\n",
       "                                                   text  \n",
       "0     somber sister  \\r this is a strange and bitter...  \n",
       "1     oh randy, if they knew.  \\r i think they'd tak...  \n",
       "2     why do i have these thoughts go through my hea...  \n",
       "3     the session is nice, feel real good  \\r the se...  \n",
       "4     hey jude don't make it bad  \\r take a sad song...  \n",
       "...                                                 ...  \n",
       "4995  take me backwards  \\r turn me around  \\r canno...  \n",
       "4996  while out sailing on the ocean  \\r while out s...  \n",
       "4997  by hap palmer  \\r   \\r dead leaves, seaweed, r...  \n",
       "4998  just one more mornin, i had to wake up with th...  \n",
       "4999  it cuts both ways  \\r our love is like knife t...  \n",
       "\n",
       "[5000 rows x 3 columns]"
      ]
     },
     "execution_count": 67,
     "metadata": {},
     "output_type": "execute_result"
    }
   ],
   "source": [
    "musics['text'] = musics['text'].str.lower().replace(r'^\\w\\s','').replace(r'\\n',' ',regex = True)\n",
    "musics"
   ]
  },
  {
   "cell_type": "markdown",
   "id": "c03fd1e6",
   "metadata": {},
   "source": [
    "* Text token'lara dönüştürülür.\n",
    "* Token'lardan vectorler elde edilir.\n",
    "* 3 teknikten biri kullanılır: TF-IDF, Bag if Word, Word2Vec"
   ]
  },
  {
   "cell_type": "markdown",
   "id": "e68e13c8",
   "metadata": {},
   "source": [
    "Tokenization işleminde benzer kelimler çok önemli, bunların aynı sayıyla temsiledilmesi gerekir.\n",
    "Ortak bir dil için stemmer kullanılır."
   ]
  },
  {
   "cell_type": "markdown",
   "id": "410cc1f3",
   "metadata": {},
   "source": [
    "Vektorizasyon işlemi ile tüm metinsel veri vektörler halinde temsil edilir."
   ]
  },
  {
   "cell_type": "markdown",
   "id": "5fa82038",
   "metadata": {},
   "source": [
    "Her vektörün mesafesi hesaplanır ve hesaplanan mesafeye göre şarkı önerisi yapılır.\n",
    "* Öklid mesafesi kullanılmaz.\n",
    "* Cosine Similarity kullanılacak."
   ]
  },
  {
   "cell_type": "markdown",
   "id": "85ee09be",
   "metadata": {},
   "source": [
    "## Tokenization\n",
    "Cümleler tokenlere ayrılır"
   ]
  },
  {
   "cell_type": "code",
   "execution_count": 68,
   "id": "e5a32bb9",
   "metadata": {},
   "outputs": [
    {
     "name": "stderr",
     "output_type": "stream",
     "text": [
      "[nltk_data] Downloading package punkt to\n",
      "[nltk_data]     C:\\Users\\emine\\AppData\\Roaming\\nltk_data...\n",
      "[nltk_data]   Package punkt is already up-to-date!\n"
     ]
    },
    {
     "data": {
      "text/plain": [
       "True"
      ]
     },
     "execution_count": 68,
     "metadata": {},
     "output_type": "execute_result"
    }
   ],
   "source": [
    "import nltk \n",
    "from nltk.stem.porter import PorterStemmer\n",
    "nltk.download('punkt')"
   ]
  },
  {
   "cell_type": "code",
   "execution_count": 69,
   "id": "89acdef5",
   "metadata": {},
   "outputs": [],
   "source": [
    "stemmer = PorterStemmer()"
   ]
  },
  {
   "cell_type": "code",
   "execution_count": 70,
   "id": "1cfef164",
   "metadata": {},
   "outputs": [],
   "source": [
    "def token(txt):\n",
    "    token = nltk.word_tokenize(txt)\n",
    "    tokens = [stemmer.stem(w) for w in token]\n",
    "    return \" \".join(tokens)"
   ]
  },
  {
   "cell_type": "code",
   "execution_count": 71,
   "id": "e44bad6b",
   "metadata": {},
   "outputs": [
    {
     "data": {
      "text/plain": [
       "'you are beati'"
      ]
     },
     "execution_count": 71,
     "metadata": {},
     "output_type": "execute_result"
    }
   ],
   "source": [
    "token('you are beatiful')"
   ]
  },
  {
   "cell_type": "markdown",
   "id": "0a6fd394",
   "metadata": {},
   "source": [
    "Tüm dataset tokenleştirilir."
   ]
  },
  {
   "cell_type": "code",
   "execution_count": 72,
   "id": "4bd0e173",
   "metadata": {},
   "outputs": [
    {
     "data": {
      "text/plain": [
       "0       somber sister thi is a strang and bitter fruit...\n",
       "1       oh randi , if they knew . i think they 'd take...\n",
       "2       whi do i have these thought go through my head...\n",
       "3       the session is nice , feel real good the set i...\n",
       "4       hey jude do n't make it bad take a sad song an...\n",
       "                              ...                        \n",
       "4995    take me backward turn me around can not find m...\n",
       "4996    while out sail on the ocean while out sail on ...\n",
       "4997    by hap palmer dead leav , seawe , rotten egg ,...\n",
       "4998    just one more mornin , i had to wake up with t...\n",
       "4999    it cut both way our love is like knife that cu...\n",
       "Name: text, Length: 5000, dtype: object"
      ]
     },
     "execution_count": 72,
     "metadata": {},
     "output_type": "execute_result"
    }
   ],
   "source": [
    "musics['text'].apply(lambda x:token(x))"
   ]
  },
  {
   "cell_type": "markdown",
   "id": "69ba85f4",
   "metadata": {},
   "source": [
    "## Vectorization \n",
    "Her bir tokene karşılık gelen bir sayı belirlenir, ve cümleler vektör haline getirilir.\n",
    "\n",
    "Tf-Idf tekniği kullanılır.\n",
    "* TfidVectorizer\n",
    "\n",
    "Distance hesaplamak için cosine_similarity kullanılır."
   ]
  },
  {
   "cell_type": "code",
   "execution_count": 73,
   "id": "3058edf0",
   "metadata": {},
   "outputs": [],
   "source": [
    "from sklearn.feature_extraction.text import TfidfVectorizer\n",
    "from sklearn.metrics.pairwise import cosine_similarity"
   ]
  },
  {
   "cell_type": "code",
   "execution_count": 74,
   "id": "963aa167",
   "metadata": {},
   "outputs": [],
   "source": [
    "tfid = TfidfVectorizer(analyzer= 'word',stop_words = 'english')"
   ]
  },
  {
   "cell_type": "code",
   "execution_count": 75,
   "id": "16992ef4",
   "metadata": {},
   "outputs": [],
   "source": [
    "matrix = tfid.fit_transform(musics['text'])"
   ]
  },
  {
   "cell_type": "code",
   "execution_count": 76,
   "id": "f3f9ed99",
   "metadata": {},
   "outputs": [],
   "source": [
    "smiler = cosine_similarity(matrix)"
   ]
  },
  {
   "cell_type": "code",
   "execution_count": 77,
   "id": "3e462e0d",
   "metadata": {},
   "outputs": [
    {
     "data": {
      "text/plain": [
       "array([1.        , 0.01494966, 0.00973464, ..., 0.        , 0.01250236,\n",
       "       0.03270661])"
      ]
     },
     "execution_count": 77,
     "metadata": {},
     "output_type": "execute_result"
    }
   ],
   "source": [
    "smiler[0]"
   ]
  },
  {
   "cell_type": "markdown",
   "id": "456bc12c",
   "metadata": {},
   "source": [
    "Recommender"
   ]
  },
  {
   "cell_type": "code",
   "execution_count": 98,
   "id": "0c551ffd",
   "metadata": {},
   "outputs": [],
   "source": [
    "def recommender(song_name):\n",
    "    idx =  musics[musics['song'] == song_name].index[0]\n",
    "    distance = sorted(list(enumerate(smiler[idx])),reverse=True, key=lambda x:x[1])\n",
    "    song = []\n",
    "    for s_id in distance[1:20]:\n",
    "        song.append(musics.iloc[s_id[0]].song)\n",
    "    return song"
   ]
  },
  {
   "cell_type": "code",
   "execution_count": 99,
   "id": "5768c949",
   "metadata": {},
   "outputs": [],
   "source": [
    "songs = recommender(\"A Part Hate\")"
   ]
  },
  {
   "cell_type": "code",
   "execution_count": 100,
   "id": "448de93b",
   "metadata": {},
   "outputs": [
    {
     "data": {
      "text/plain": [
       "['Cool To Hate',\n",
       " 'I Am',\n",
       " 'Platypus',\n",
       " 'Love To Hate',\n",
       " 'Make Believe',\n",
       " \"I'll Wear It Proudly\",\n",
       " 'I Hate It When That Happens To Me',\n",
       " 'Only Love Knows Why',\n",
       " 'Bell-Bottomed Tear',\n",
       " 'Spirit Of The Age',\n",
       " 'No Master Race',\n",
       " 'Another Night',\n",
       " 'Soul Creation By Cinder',\n",
       " 'Jesus Was A Capricorn',\n",
       " 'American Errorist',\n",
       " 'Crying Days',\n",
       " 'Pearl In The Shell',\n",
       " 'Make The World Move',\n",
       " 'For You, and Your Denial']"
      ]
     },
     "execution_count": 100,
     "metadata": {},
     "output_type": "execute_result"
    }
   ],
   "source": [
    "songs"
   ]
  },
  {
   "cell_type": "code",
   "execution_count": 101,
   "id": "2d550309",
   "metadata": {},
   "outputs": [
    {
     "data": {
      "text/html": [
       "<div>\n",
       "<style scoped>\n",
       "    .dataframe tbody tr th:only-of-type {\n",
       "        vertical-align: middle;\n",
       "    }\n",
       "\n",
       "    .dataframe tbody tr th {\n",
       "        vertical-align: top;\n",
       "    }\n",
       "\n",
       "    .dataframe thead th {\n",
       "        text-align: right;\n",
       "    }\n",
       "</style>\n",
       "<table border=\"1\" class=\"dataframe\">\n",
       "  <thead>\n",
       "    <tr style=\"text-align: right;\">\n",
       "      <th></th>\n",
       "      <th>artist</th>\n",
       "      <th>song</th>\n",
       "      <th>text</th>\n",
       "    </tr>\n",
       "  </thead>\n",
       "  <tbody>\n",
       "    <tr>\n",
       "      <th>0</th>\n",
       "      <td>Cyndi Lauper</td>\n",
       "      <td>A Part Hate</td>\n",
       "      <td>somber sister  \\r this is a strange and bitter...</td>\n",
       "    </tr>\n",
       "    <tr>\n",
       "      <th>1</th>\n",
       "      <td>Cat Stevens</td>\n",
       "      <td>Randy</td>\n",
       "      <td>oh randy, if they knew.  \\r i think they'd tak...</td>\n",
       "    </tr>\n",
       "    <tr>\n",
       "      <th>2</th>\n",
       "      <td>Pat Benatar</td>\n",
       "      <td>Tell Me</td>\n",
       "      <td>why do i have these thoughts go through my hea...</td>\n",
       "    </tr>\n",
       "    <tr>\n",
       "      <th>3</th>\n",
       "      <td>Ziggy Marley</td>\n",
       "      <td>Head Top</td>\n",
       "      <td>the session is nice, feel real good  \\r the se...</td>\n",
       "    </tr>\n",
       "    <tr>\n",
       "      <th>4</th>\n",
       "      <td>Grateful Dead</td>\n",
       "      <td>Hey Jude</td>\n",
       "      <td>hey jude don't make it bad  \\r take a sad song...</td>\n",
       "    </tr>\n",
       "    <tr>\n",
       "      <th>...</th>\n",
       "      <td>...</td>\n",
       "      <td>...</td>\n",
       "      <td>...</td>\n",
       "    </tr>\n",
       "    <tr>\n",
       "      <th>4995</th>\n",
       "      <td>Christina Perri</td>\n",
       "      <td>Backwards</td>\n",
       "      <td>take me backwards  \\r turn me around  \\r canno...</td>\n",
       "    </tr>\n",
       "    <tr>\n",
       "      <th>4996</th>\n",
       "      <td>John Prine</td>\n",
       "      <td>Everybody Wants To Feel Like You</td>\n",
       "      <td>while out sailing on the ocean  \\r while out s...</td>\n",
       "    </tr>\n",
       "    <tr>\n",
       "      <th>4997</th>\n",
       "      <td>Halloween</td>\n",
       "      <td>Witches' Brew</td>\n",
       "      <td>by hap palmer  \\r   \\r dead leaves, seaweed, r...</td>\n",
       "    </tr>\n",
       "    <tr>\n",
       "      <th>4998</th>\n",
       "      <td>Allman Brothers Band</td>\n",
       "      <td>Dreams</td>\n",
       "      <td>just one more mornin, i had to wake up with th...</td>\n",
       "    </tr>\n",
       "    <tr>\n",
       "      <th>4999</th>\n",
       "      <td>Gloria Estefan</td>\n",
       "      <td>Cuts Both Ways</td>\n",
       "      <td>it cuts both ways  \\r our love is like knife t...</td>\n",
       "    </tr>\n",
       "  </tbody>\n",
       "</table>\n",
       "<p>5000 rows × 3 columns</p>\n",
       "</div>"
      ],
      "text/plain": [
       "                    artist                              song  \\\n",
       "0             Cyndi Lauper                       A Part Hate   \n",
       "1              Cat Stevens                             Randy   \n",
       "2              Pat Benatar                           Tell Me   \n",
       "3             Ziggy Marley                          Head Top   \n",
       "4            Grateful Dead                          Hey Jude   \n",
       "...                    ...                               ...   \n",
       "4995       Christina Perri                         Backwards   \n",
       "4996            John Prine  Everybody Wants To Feel Like You   \n",
       "4997             Halloween                     Witches' Brew   \n",
       "4998  Allman Brothers Band                            Dreams   \n",
       "4999        Gloria Estefan                    Cuts Both Ways   \n",
       "\n",
       "                                                   text  \n",
       "0     somber sister  \\r this is a strange and bitter...  \n",
       "1     oh randy, if they knew.  \\r i think they'd tak...  \n",
       "2     why do i have these thoughts go through my hea...  \n",
       "3     the session is nice, feel real good  \\r the se...  \n",
       "4     hey jude don't make it bad  \\r take a sad song...  \n",
       "...                                                 ...  \n",
       "4995  take me backwards  \\r turn me around  \\r canno...  \n",
       "4996  while out sailing on the ocean  \\r while out s...  \n",
       "4997  by hap palmer  \\r   \\r dead leaves, seaweed, r...  \n",
       "4998  just one more mornin, i had to wake up with th...  \n",
       "4999  it cuts both ways  \\r our love is like knife t...  \n",
       "\n",
       "[5000 rows x 3 columns]"
      ]
     },
     "execution_count": 101,
     "metadata": {},
     "output_type": "execute_result"
    }
   ],
   "source": [
    "musics"
   ]
  },
  {
   "cell_type": "code",
   "execution_count": 102,
   "id": "1e9cb108",
   "metadata": {},
   "outputs": [],
   "source": [
    "songs = musics[musics['song'].isin(songs)][['artist', 'song']]"
   ]
  },
  {
   "cell_type": "code",
   "execution_count": 103,
   "id": "216cdbfe",
   "metadata": {},
   "outputs": [
    {
     "data": {
      "text/html": [
       "<div>\n",
       "<style scoped>\n",
       "    .dataframe tbody tr th:only-of-type {\n",
       "        vertical-align: middle;\n",
       "    }\n",
       "\n",
       "    .dataframe tbody tr th {\n",
       "        vertical-align: top;\n",
       "    }\n",
       "\n",
       "    .dataframe thead th {\n",
       "        text-align: right;\n",
       "    }\n",
       "</style>\n",
       "<table border=\"1\" class=\"dataframe\">\n",
       "  <thead>\n",
       "    <tr style=\"text-align: right;\">\n",
       "      <th></th>\n",
       "      <th>artist</th>\n",
       "      <th>song</th>\n",
       "    </tr>\n",
       "  </thead>\n",
       "  <tbody>\n",
       "    <tr>\n",
       "      <th>340</th>\n",
       "      <td>Peter Cetera</td>\n",
       "      <td>Only Love Knows Why</td>\n",
       "    </tr>\n",
       "    <tr>\n",
       "      <th>664</th>\n",
       "      <td>NOFX</td>\n",
       "      <td>American Errorist</td>\n",
       "    </tr>\n",
       "    <tr>\n",
       "      <th>872</th>\n",
       "      <td>Hanson</td>\n",
       "      <td>I Am</td>\n",
       "    </tr>\n",
       "    <tr>\n",
       "      <th>1368</th>\n",
       "      <td>Christina Aguilera</td>\n",
       "      <td>Make The World Move</td>\n",
       "    </tr>\n",
       "    <tr>\n",
       "      <th>1613</th>\n",
       "      <td>Offspring</td>\n",
       "      <td>Cool To Hate</td>\n",
       "    </tr>\n",
       "    <tr>\n",
       "      <th>2284</th>\n",
       "      <td>Alphaville</td>\n",
       "      <td>Spirit Of The Age</td>\n",
       "    </tr>\n",
       "    <tr>\n",
       "      <th>2314</th>\n",
       "      <td>Kris Kristofferson</td>\n",
       "      <td>Jesus Was A Capricorn</td>\n",
       "    </tr>\n",
       "    <tr>\n",
       "      <th>2391</th>\n",
       "      <td>Beautiful South</td>\n",
       "      <td>Bell-Bottomed Tear</td>\n",
       "    </tr>\n",
       "    <tr>\n",
       "      <th>3131</th>\n",
       "      <td>Dusty Springfield</td>\n",
       "      <td>Another Night</td>\n",
       "    </tr>\n",
       "    <tr>\n",
       "      <th>3174</th>\n",
       "      <td>Unseen</td>\n",
       "      <td>No Master Race</td>\n",
       "    </tr>\n",
       "    <tr>\n",
       "      <th>3699</th>\n",
       "      <td>Elvis Costello</td>\n",
       "      <td>I'll Wear It Proudly</td>\n",
       "    </tr>\n",
       "    <tr>\n",
       "      <th>3732</th>\n",
       "      <td>Cinderella</td>\n",
       "      <td>Soul Creation By Cinder</td>\n",
       "    </tr>\n",
       "    <tr>\n",
       "      <th>3754</th>\n",
       "      <td>John Prine</td>\n",
       "      <td>I Hate It When That Happens To Me</td>\n",
       "    </tr>\n",
       "    <tr>\n",
       "      <th>4343</th>\n",
       "      <td>King Diamond</td>\n",
       "      <td>I Am</td>\n",
       "    </tr>\n",
       "    <tr>\n",
       "      <th>4375</th>\n",
       "      <td>Korn</td>\n",
       "      <td>Make Believe</td>\n",
       "    </tr>\n",
       "    <tr>\n",
       "      <th>4412</th>\n",
       "      <td>Green Day</td>\n",
       "      <td>Platypus</td>\n",
       "    </tr>\n",
       "    <tr>\n",
       "      <th>4417</th>\n",
       "      <td>Alison Krauss</td>\n",
       "      <td>Another Night</td>\n",
       "    </tr>\n",
       "    <tr>\n",
       "      <th>4564</th>\n",
       "      <td>Ozzy Osbourne</td>\n",
       "      <td>Love To Hate</td>\n",
       "    </tr>\n",
       "    <tr>\n",
       "      <th>4610</th>\n",
       "      <td>Howard Jones</td>\n",
       "      <td>Pearl In The Shell</td>\n",
       "    </tr>\n",
       "    <tr>\n",
       "      <th>4664</th>\n",
       "      <td>Scorpions</td>\n",
       "      <td>Crying Days</td>\n",
       "    </tr>\n",
       "    <tr>\n",
       "      <th>4764</th>\n",
       "      <td>Yellowcard</td>\n",
       "      <td>For You, and Your Denial</td>\n",
       "    </tr>\n",
       "  </tbody>\n",
       "</table>\n",
       "</div>"
      ],
      "text/plain": [
       "                  artist                               song\n",
       "340         Peter Cetera                Only Love Knows Why\n",
       "664                 NOFX                  American Errorist\n",
       "872               Hanson                               I Am\n",
       "1368  Christina Aguilera                Make The World Move\n",
       "1613           Offspring                       Cool To Hate\n",
       "2284          Alphaville                  Spirit Of The Age\n",
       "2314  Kris Kristofferson              Jesus Was A Capricorn\n",
       "2391     Beautiful South                 Bell-Bottomed Tear\n",
       "3131   Dusty Springfield                      Another Night\n",
       "3174              Unseen                     No Master Race\n",
       "3699      Elvis Costello               I'll Wear It Proudly\n",
       "3732          Cinderella            Soul Creation By Cinder\n",
       "3754          John Prine  I Hate It When That Happens To Me\n",
       "4343        King Diamond                               I Am\n",
       "4375                Korn                       Make Believe\n",
       "4412           Green Day                           Platypus\n",
       "4417       Alison Krauss                      Another Night\n",
       "4564       Ozzy Osbourne                       Love To Hate\n",
       "4610        Howard Jones                 Pearl In The Shell\n",
       "4664           Scorpions                        Crying Days\n",
       "4764          Yellowcard           For You, and Your Denial"
      ]
     },
     "execution_count": 103,
     "metadata": {},
     "output_type": "execute_result"
    }
   ],
   "source": [
    "songs"
   ]
  },
  {
   "cell_type": "markdown",
   "id": "ed009898",
   "metadata": {},
   "source": [
    "Json dosyasına kaydedilir."
   ]
  },
  {
   "cell_type": "code",
   "execution_count": 104,
   "id": "e16ae344",
   "metadata": {},
   "outputs": [],
   "source": [
    "songs.to_json(\"songs.json\")"
   ]
  },
  {
   "cell_type": "code",
   "execution_count": null,
   "id": "1e31e5f3",
   "metadata": {},
   "outputs": [],
   "source": []
  }
 ],
 "metadata": {
  "kernelspec": {
   "display_name": "Python 3 (ipykernel)",
   "language": "python",
   "name": "python3"
  },
  "language_info": {
   "codemirror_mode": {
    "name": "ipython",
    "version": 3
   },
   "file_extension": ".py",
   "mimetype": "text/x-python",
   "name": "python",
   "nbconvert_exporter": "python",
   "pygments_lexer": "ipython3",
   "version": "3.11.5"
  }
 },
 "nbformat": 4,
 "nbformat_minor": 5
}
